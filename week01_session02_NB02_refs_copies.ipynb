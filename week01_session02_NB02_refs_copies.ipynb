{
  "cells": [
    {
      "cell_type": "markdown",
      "metadata": {
        "id": "view-in-github",
        "colab_type": "text"
      },
      "source": [
        "<a href=\"https://colab.research.google.com/github/gt-cse-6040/skills_oh_week_01/blob/main/week01_session02_NB02_refs_copies.ipynb\" target=\"_parent\"><img src=\"https://colab.research.google.com/assets/colab-badge.svg\" alt=\"Open In Colab\"/></a>"
      ]
    },
    {
      "cell_type": "markdown",
      "metadata": {
        "id": "QENt5NvpCNmC"
      },
      "source": [
        "# References and Copies #\n",
        "\n"
      ]
    },
    {
      "cell_type": "markdown",
      "metadata": {
        "id": "IjXxRj0WCNmF"
      },
      "source": [
        "_Main topics covered during today's session:_\n",
        "\n",
        "Previous NB:\n",
        "1. **Python Loops**\n",
        "2. **Comprehensions:  Lists, Dicts, Sets**\n",
        "\n",
        "This NB:\n",
        "\n",
        "4. **References and Copies**\n",
        "\n",
        "Next NB:\n",
        "\n",
        "5. **Troubleshooting Data for the Exams**\n"
      ]
    },
    {
      "cell_type": "markdown",
      "metadata": {
        "id": "2JOLKlh4CNmG"
      },
      "source": [
        "## References ##"
      ]
    },
    {
      "cell_type": "markdown",
      "metadata": {
        "id": "lEsBj7S8CNmH"
      },
      "source": [
        "Variables are _names_ for objects. When the objects are \"complex\" (not \"primitive\"), modifications through one name may be visible to others."
      ]
    },
    {
      "cell_type": "markdown",
      "metadata": {
        "id": "ELuneNEnCNmI"
      },
      "source": [
        "To wit:"
      ]
    },
    {
      "cell_type": "code",
      "execution_count": null,
      "metadata": {
        "id": "3JNA4DMACNmI"
      },
      "outputs": [],
      "source": [
        "x = [1, 2, 3, 4, 5]\n",
        "print(\"x:\", x)\n",
        "\n",
        "y = x\n",
        "print(\"y:\", y)\n",
        "\n",
        "y[2] *= -1\n",
        "print(\"Modified y:\", y)"
      ]
    },
    {
      "cell_type": "markdown",
      "metadata": {
        "id": "t76xSuyHCNmJ"
      },
      "source": [
        "**Question:** What is `x`?"
      ]
    },
    {
      "cell_type": "code",
      "execution_count": null,
      "metadata": {
        "id": "qGtivw1nCNmK"
      },
      "outputs": [],
      "source": [
        "print(x) # What does this produce?"
      ]
    },
    {
      "cell_type": "markdown",
      "metadata": {
        "id": "Kzr5MrWtCNmL"
      },
      "source": [
        "#### Why does this occur?\n",
        "\n",
        "Because `y` is simply pointing to the underlying memory location of `x`, in the underlying data storage of the computer. It is not pointing to a new memory location, so modifying one variable modifies both of them."
      ]
    },
    {
      "cell_type": "markdown",
      "metadata": {
        "id": "9LjruavhCNmN"
      },
      "source": [
        "**What's your alternative?** If you really do need a copy, what are your options? Three ways of doing it below.\n",
        "\n",
        "```python\n",
        "y = [1, 2, 3, 4, 5]\n",
        "y = x.copy()\n",
        "y = [e for e in x]\n",
        "```\n",
        "\n",
        "Go ahead and put the above into the Python Tutor and see how they execute.."
      ]
    },
    {
      "cell_type": "markdown",
      "metadata": {
        "id": "rk9J3N5eCNmO"
      },
      "source": [
        "**A tricky case.**"
      ]
    },
    {
      "cell_type": "code",
      "execution_count": null,
      "metadata": {
        "id": "YemeWgDiCNmO"
      },
      "outputs": [],
      "source": [
        "x = [1, 2, ['a', 'b', 'c'], 4, 5]\n",
        "y = x.copy()\n",
        "print(y)"
      ]
    },
    {
      "cell_type": "code",
      "execution_count": null,
      "metadata": {
        "id": "Ud4FG-EICNmO"
      },
      "outputs": [],
      "source": [
        "y[2].append('w')\n",
        "print(y)"
      ]
    },
    {
      "cell_type": "code",
      "execution_count": null,
      "metadata": {
        "id": "rjJ6TLbrCNmQ"
      },
      "outputs": [],
      "source": [
        "print(x) # What is the result?"
      ]
    },
    {
      "cell_type": "markdown",
      "metadata": {
        "id": "uZPqiDNbCNmR"
      },
      "source": [
        "In Python, all unique objects have an _identifier_ associated with them. You can query these."
      ]
    },
    {
      "cell_type": "code",
      "execution_count": null,
      "metadata": {
        "id": "x3cqWW9xCNmR"
      },
      "outputs": [],
      "source": [
        "id(x), id(y)"
      ]
    },
    {
      "cell_type": "code",
      "execution_count": null,
      "metadata": {
        "id": "brl4tnO1CNmS"
      },
      "outputs": [],
      "source": [
        "id(x[2]), id(y[2])"
      ]
    },
    {
      "cell_type": "markdown",
      "metadata": {
        "id": "F7Wd2ahXCNmT"
      },
      "source": [
        "In this case, `x` and `y` are distinct objects, but `x[2]` and `y[2]` refer to the same object. When we \"copied\" `x[2]` into `y[2]`, we copied the `id(x[2])` rather than duplicating the entire object. This kind of copy is sometimes called a _shallow copy_."
      ]
    },
    {
      "cell_type": "markdown",
      "metadata": {
        "id": "V6rGwPXeCNmT"
      },
      "source": [
        "Still not clear? Check out a Python Tutor version."
      ]
    },
    {
      "cell_type": "code",
      "execution_count": null,
      "metadata": {
        "id": "8FHtWN6eCNmT"
      },
      "outputs": [],
      "source": [
        "%%html\n",
        "\n",
        "<iframe width=\"1024\" height=\"350\" frameborder=\"0\" src=\"https://pythontutor.com/iframe-embed.html#code=x%20%3D%20%5B1,%202,%20%5B'a',%20'b',%20'c'%5D,%204,%205%5D%0Ay%20%3D%20x.copy%28%29%0Ay%5B2%5D.append%28'w'%29&codeDivHeight=400&codeDivWidth=350&cumulative=false&curInstr=0&heapPrimitives=nevernest&origin=opt-frontend.js&py=3&rawInputLstJSON=%5B%5D&textReferences=false\"> </iframe>"
      ]
    },
    {
      "cell_type": "markdown",
      "metadata": {
        "id": "U86CHwidCNmU"
      },
      "source": [
        "**What if you really need a copy for a nested data structure?** The preceding example illustrates that `.copy()` performs a _shallow_ copy. But what if you want a non-shallow, or _deep_, copy? There's a module for that!"
      ]
    },
    {
      "cell_type": "code",
      "execution_count": null,
      "metadata": {
        "id": "TvzdnyOuCNmV"
      },
      "outputs": [],
      "source": [
        "from copy import deepcopy\n",
        "\n",
        "print('x:', x)\n",
        "z = deepcopy(x)\n",
        "print('z:', z)\n",
        "\n",
        "print('=== appending ===')\n",
        "z[2].append('@')\n",
        "print('x:', x)\n",
        "print('z:', z)"
      ]
    },
    {
      "cell_type": "markdown",
      "metadata": {
        "id": "PgmiuBINCNmV"
      },
      "source": [
        "**Exercise** (taken from Notebook 1). Let `L` be a list of strings, e.g.,\n",
        "\n",
        "```python\n",
        "L = ['abc', 'def', 'ghi']\n",
        "```\n",
        "\n",
        "Complete the function, `rev_str_cat_list(L)` so that it reverses the elements in the list and then concatenates these strings into a single string. It should not modify `L`.\n",
        "\n",
        "For instance, `rev_str_cat_list(L)` on the above list would return,\n",
        "\n",
        "```python\n",
        "'ghidefabc'\n",
        "```"
      ]
    },
    {
      "cell_type": "markdown",
      "metadata": {
        "id": "2lxRDe3LCNmV"
      },
      "source": [
        "Your friend supplies the following solution. It appears to produce the correct result, but is wrong. Why?"
      ]
    },
    {
      "cell_type": "code",
      "execution_count": null,
      "metadata": {
        "id": "fxhxGFYSCNmW"
      },
      "outputs": [],
      "source": [
        "def rev_str_cat_list(L):\n",
        "    L.reverse()\n",
        "    return ''.join(L)\n",
        "\n",
        "L = ['abc', 'def', 'ghi']\n",
        "result = rev_str_cat_list(L)\n",
        "print(repr(result)) # So right, and yet so wrong. Why?"
      ]
    },
    {
      "cell_type": "markdown",
      "metadata": {
        "id": "c1oyxzTOCNmW"
      },
      "source": [
        "> _Answer:_ This function is considered _incorrect_ because it modifies its input. Try `print(L)` after the call to `rev_str_cat_list(L)` to verify this claim.\n",
        ">\n",
        "> In this case, the exercise stipulates that the function should not modify its input. \n",
        "\n",
        "#### However, you should always _assume_ that convention unless told otherwise. Why? Remember that you are writing code for others. By adhering to the convention that functions do not modify their inputs, it makes it easier for others to reason about the behavior of your code. \n",
        "\n",
        "\n",
        "#### When we want your function to modify its input, we will tell you to do so. \n",
        "\n",
        "### This is really important throughout the course!!!"
      ]
    },
    {
      "cell_type": "markdown",
      "metadata": {
        "id": "CXj9rMhiCNmW"
      },
      "source": [
        "## Summary ##\n",
        "\n",
        "1. Every distinct object in Python has an ID, which you can see by `id(x)` for the object `x`."
      ]
    },
    {
      "cell_type": "markdown",
      "metadata": {
        "id": "x-_TmJVWCNmY"
      },
      "source": [
        "2. An assignment _copies_ these IDs. That is, in the assignment `y = x`, it will be the case that `id(y)` equals `id(x)`."
      ]
    },
    {
      "cell_type": "markdown",
      "metadata": {
        "id": "p4qTuuLtCNmY"
      },
      "source": [
        "3. Shallow vs. deep copies: An object's `.copy()` function will perform a shallow copy. For deep copies, use `deepcopy` from the `copy` module."
      ]
    }
  ],
  "metadata": {
    "celltoolbar": "Slideshow",
    "kernelspec": {
      "display_name": "Python 3 (ipykernel)",
      "language": "python",
      "name": "python3"
    },
    "language_info": {
      "codemirror_mode": {
        "name": "ipython",
        "version": 3
      },
      "file_extension": ".py",
      "mimetype": "text/x-python",
      "name": "python",
      "nbconvert_exporter": "python",
      "pygments_lexer": "ipython3",
      "version": "3.9.13"
    },
    "toc": {
      "base_numbering": 1,
      "nav_menu": {},
      "number_sections": true,
      "sideBar": true,
      "skip_h1_title": false,
      "title_cell": "Table of Contents",
      "title_sidebar": "Contents",
      "toc_cell": false,
      "toc_position": {},
      "toc_section_display": true,
      "toc_window_display": false
    },
    "colab": {
      "provenance": [],
      "include_colab_link": true
    }
  },
  "nbformat": 4,
  "nbformat_minor": 0
}