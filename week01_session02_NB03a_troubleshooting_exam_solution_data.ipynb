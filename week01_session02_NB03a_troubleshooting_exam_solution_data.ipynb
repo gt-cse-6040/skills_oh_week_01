{
  "cells": [
    {
      "cell_type": "markdown",
      "metadata": {
        "id": "view-in-github",
        "colab_type": "text"
      },
      "source": [
        "<a href=\"https://colab.research.google.com/github/gt-cse-6040/skills_oh_week_01/blob/main/week01_session02_NB03a_troubleshooting_exam_solution_data.ipynb\" target=\"_parent\"><img src=\"https://colab.research.google.com/assets/colab-badge.svg\" alt=\"Open In Colab\"/></a>"
      ]
    },
    {
      "cell_type": "code",
      "source": [
        "\n",
        "!wget -q https://raw.githubusercontent.com/gt-cse-6040/skills_oh_week_01/main/nb_1_2_tester.py\n",
        "!wget -q https://github.com/gt-cse-6040/skills_oh_week_01/raw/main/test_cases.pkl\n",
        "!wget -q https://raw.githubusercontent.com/gt-cse-6040/skills_oh_week_01/main/tester_6040.py"
      ],
      "metadata": {
        "id": "_BlTgAbPG0Pc"
      },
      "id": "_BlTgAbPG0Pc",
      "execution_count": 1,
      "outputs": []
    },
    {
      "cell_type": "markdown",
      "id": "b7866d34",
      "metadata": {
        "id": "b7866d34"
      },
      "source": [
        "# Troubleshooting Exam Solution Variables (results/data) Template"
      ]
    },
    {
      "cell_type": "markdown",
      "id": "ea5d8b7b",
      "metadata": {
        "id": "ea5d8b7b"
      },
      "source": [
        "#### What we want to do is show some techniques for troubleshooting when your solution does not match the exam solution.\n",
        "\n",
        "The troubleshooting below applies for all exam solutions, no matter what the exercise requires you to return (list, dict, dataframe, number, etc).\n",
        "\n",
        "## Note that these are examples of what you can use to troubleshoot your exam data.\n",
        "\n",
        "## These examples are NOT EXHAUSTIVE, and they are meant to be REPRESENTATIVE of the techniques you can use when troubleshooting.\n",
        "\n",
        "## These examples represent the KIND OF THINKING that you should be doing, but the code here WILL NOT catch every single error case."
      ]
    },
    {
      "cell_type": "markdown",
      "id": "066065cc",
      "metadata": {
        "id": "066065cc"
      },
      "source": [
        "#### For every exam question, you will have a markdown cell similar to the below, describing the variables available to you for troubleshooting. These 4 variables are available to you after every exercise on the exam.\n",
        "\n",
        "What we are doing here is showing you how these variables will be formatted, and how to do data discovery of them, for troubleshooting."
      ]
    },
    {
      "cell_type": "markdown",
      "id": "d3576832",
      "metadata": {
        "id": "d3576832"
      },
      "source": [
        "### Every exam exercise will have this text, describing the test variables available to you for troubleshooting.\n",
        "\n",
        "*************************************************************************************************************************\n",
        "\n",
        "The test cell below will check your solution against several randomly generated test cases. If your solution does not pass the test (or if you're just curious), you can look at the variables used in the latest test run. They are automatically imported for you as part of the test.\n",
        "\n",
        "- `input_vars` - Dictionary containing all of the inputs to your function. Keys are the parameter names.\n",
        "- `original_input_vars` - Dictionary containing a copy of all the inputs to your function. This is useful for debugging failures related to your solution modifying the input. Keys are the parameter names.\n",
        "- `returned_output_vars` - Dictionary containing the outputs your function generated. If there are multiple outputs, the keys will match the names mentioned in the exercrise instructions.\n",
        "- `true_output_vars` - Dictionary containing the outputs your function **should have** generated. If there are multiple outputs, the keys will match the names mentioned in the exercrise instructions."
      ]
    },
    {
      "cell_type": "markdown",
      "id": "256d90f9",
      "metadata": {
        "id": "256d90f9"
      },
      "source": [
        "#### The main variables that you will want to troubleshoot are the output variables, the last two listed above. \n",
        "\n",
        "If your code is not working, you will want to compare the result that your code returned **(returned_output_vars)** against the solution **(true_output_vars)**.\n",
        "\n",
        "Note that these variables are returned in a dictionary, so you will need to write code to access that dictionary to see the actual variables."
      ]
    },
    {
      "cell_type": "markdown",
      "id": "2217091d",
      "metadata": {
        "id": "2217091d"
      },
      "source": [
        "## When your solution is being tested, the test is looking at 5 things:\n",
        "(actually 4, as items 2 and 3 below are the same test, depending on the variable type):\n",
        "\n",
        "1. The data types between the two solution outputs are the same.\n",
        "2. If the solution is longer than a single value (list/dict), the true and returned variables are the same length.\n",
        "3. If your solution is a dataframe, the true and returned variables have the same shape (rows and columns)\n",
        "4. If your solution is a dataframe, the column names are the same, and in the same order.\n",
        "5. The actual data itself is the same, no matter the data structure (list, dict, df, etc)"
      ]
    },
    {
      "cell_type": "markdown",
      "id": "a6c9d6a1",
      "metadata": {
        "id": "a6c9d6a1"
      },
      "source": [
        "### There are two general methods to troubleshoot.\n",
        "\n",
        "1. You can visually inspect and compare the two outputs. This is what many students do, and they fail, because a visual inspection of the data does not test all 4 scenarios above.\n",
        "2. You can run some code to test the 4 testing scenarios above. Below we are providing template code to do this. You can copy and paste the below code into your exam and run it to test your outputs."
      ]
    },
    {
      "cell_type": "markdown",
      "id": "8398db3b",
      "metadata": {
        "id": "8398db3b"
      },
      "source": [
        "#### Use the below cell as template code to print the different variables. Uncomment the lines for the variables that you want to print. You can insert a new cell and copy in this code, below the cell that gives you the error message on your exercise.\n",
        "\n",
        "Printing the output variables allows you to do a visual inspection for differences.\n",
        "\n",
        "This is not necessarily the only way that you should test, but it is a good starting point, to get familiar with what the output variables look like."
      ]
    },
    {
      "cell_type": "code",
      "execution_count": 2,
      "id": "4678a859",
      "metadata": {
        "id": "4678a859"
      },
      "outputs": [],
      "source": [
        "# # ONLY UNCOMMENT IF YOU NEED IT!!!!\n",
        "# # BEWARE THAT THIS COULD GENERATE VOLUMINOUS OUTPUT!!!!!\n",
        "\n",
        "\n",
        "# print('input_vars')\n",
        "# print(input_vars)\n",
        "# print('original_input_vars')\n",
        "# print(original_input_vars)\n",
        "\n",
        "\n",
        "# print('returned_output_vars')\n",
        "# print(returned_output_vars)\n",
        "# print('true_output_vars')\n",
        "# print(true_output_vars)"
      ]
    },
    {
      "cell_type": "markdown",
      "id": "188c96d1",
      "metadata": {
        "id": "188c96d1"
      },
      "source": [
        "#### Use the below two cells as template code to run some specific tests to compare your returned output against the true output. Uncomment the lines for the variables that you want to compare. You can insert a new cell and copy in this code, below the cell that gives you the error message on your exercise, in the exam.\n",
        "\n",
        "The output variables are always returned in the form of a dictionary. The key of the dictionary is the name of the outputted variable, while the value of the dictionary is the actual exercise solution result.\n",
        "\n",
        "*******************************************************\n",
        "\n",
        "If you are required to return a single result (list, dict, df, number), then the key name will be something on the order of \"output_0\". As the dict has only a single key-value pair, the key name in this case is not important.\n"
      ]
    },
    {
      "cell_type": "markdown",
      "id": "a5d3fe2d",
      "metadata": {
        "id": "a5d3fe2d"
      },
      "source": [
        "********************************************************"
      ]
    },
    {
      "cell_type": "markdown",
      "id": "268bc7a9",
      "metadata": {
        "id": "268bc7a9"
      },
      "source": [
        "If you are required to return multiple results (lists, dicts, dfs, numbers), then there will be multiple key-value pairs in the dict, and the key name of each pair, will be the name of the variable you were to return. \n",
        "\n",
        "*********************************************************\n",
        "\n",
        "For example, if you are asked to return the mean, median, and max of a dataset, then there will be three key-value pairs in the dictionary, and the key names will be \"mean\", \"median\", and \"max\"."
      ]
    },
    {
      "cell_type": "markdown",
      "id": "a6a30aeb",
      "metadata": {
        "id": "a6a30aeb"
      },
      "source": [
        "#### This first cell runs all of the checks on the true_output variables (the solution), then runs all of the checks on the return_output variables (your code output)."
      ]
    },
    {
      "cell_type": "code",
      "execution_count": 3,
      "id": "2468439f",
      "metadata": {
        "id": "2468439f"
      },
      "outputs": [],
      "source": [
        "# # template code to check the output variables on the exam\n",
        "# # this code checks the true output variables (the solution your output is being compared against)\n",
        "# # Checks all of the true output variables, then all of the returned output variables\n",
        "\n",
        "\n",
        "##********************************************************\n",
        "# # this code checks the true output variables (solution)\n",
        "\n",
        "# for k,v in true_output_vars.items():\n",
        "\n",
        "##*** Use these checks for returning lists, dicts, sets, values************\n",
        "#     # check for datatype (list, dict)\n",
        "#     print(type(v))\n",
        "    \n",
        "#     # check for the length of the solution (use for lists and dicts)\n",
        "#     print(len(v))\n",
        "    \n",
        "#     # print the output for visual inspection\n",
        "#     print(v)\n",
        "##**********************************************************\n",
        "\n",
        "##*** Use these checks for returning pandas dfs************\n",
        "#     \n",
        "#     # check for datatype (df)\n",
        "#     print(type(v))\n",
        "\n",
        "#     # check the datatypes of individual columns in a pandas df\n",
        "#     print(v.dtypes)\n",
        "   \n",
        "#     # check the shape of a pandas df\n",
        "#     rows_soln = v.shape[0]\n",
        "#     cols_soln = v.shape[1]\n",
        "#     print(rows_soln)\n",
        "#     print(cols_soln)\n",
        "    \n",
        "#     # check the column names of a pandas df\n",
        "#     my_list = v.columns.values.tolist()\n",
        "#     print(my_list)\n",
        "    \n",
        "#     # check the first 5 values of a pandas df\n",
        "#     true_df = v.copy()\n",
        "#     print(true_df.head(5))\n",
        "#\n",
        "#     # use the df.info() function\n",
        "#     true_df = v.copy()\n",
        "#     print(true_df.info())\n",
        "\n",
        "##*******************************************************\n",
        "\n",
        "\n",
        "##*******************************************************\n",
        "# # this code checks your code's output variables\n",
        "# for k,v in returned_output_vars.items():\n",
        "\n",
        "##*** Use these checks for returning lists, dicts, sets, values************\n",
        "#     # check for datatype (list, dict, df)\n",
        "#     print(type(v))\n",
        "    \n",
        "#     # check for the length of the solution (use for lists and dicts)\n",
        "#     print(len(v))\n",
        "    \n",
        "#     # print the output for visual inspection\n",
        "#     print(v)\n",
        "##**********************************************************\n",
        "    \n",
        "##*** Use these checks for returning pandas dfs************\n",
        "#     # check for datatype (df)\n",
        "#     print(type(v))\n",
        "\n",
        "#     # check the datatypes of individual columns in a pandas df\n",
        "#     print(v.dtypes)\n",
        "    \n",
        "#     # check the shape of a pandas df\n",
        "#     rows_soln = v.shape[0]\n",
        "#     cols_soln = v.shape[1]\n",
        "#     print(rows_soln)\n",
        "#     print(cols_soln)\n",
        "    \n",
        "#     # check the column names of a pandas df\n",
        "#     my_ret_list = v.columns.values.tolist()\n",
        "#     print(my_ret_list)\n",
        "    \n",
        "#     # check the first 5 values of a pandas df\n",
        "#     ret_df = v.copy()\n",
        "#     print(ret_df.head(5))\n",
        "#\n",
        "#     # use the df.info() function\n",
        "#     ret_df = v.copy()\n",
        "#     print(ret_df.info())\n",
        "\n",
        "##**************************************************"
      ]
    },
    {
      "cell_type": "markdown",
      "id": "dd1ddf50",
      "metadata": {
        "id": "dd1ddf50"
      },
      "source": [
        "#### The cell below runs each of the checks individually, in a loop that checks both the true and returned variables in the same loop. Each loop performs a different set of checks, so use the loop applicable for your variable types."
      ]
    },
    {
      "cell_type": "code",
      "execution_count": 4,
      "id": "0f53a70d",
      "metadata": {
        "id": "0f53a70d"
      },
      "outputs": [],
      "source": [
        "# # template code to check the output variables on the exam\n",
        "# # this code checks the true output variables (the solution your output is being compared against)\n",
        "# # Checks the true output and returned output variables in a single loop\n",
        "\n",
        "# for kr,vr in returned_output_vars.items():\n",
        "#     # check for datatype (list, dict, df)\n",
        "#     print('returned var type')\n",
        "#     print(type(vr))\n",
        "#     for kt,vt in true_output_vars.items():\n",
        "#     #     # check for datatype (list, dict, df)\n",
        "#         print('true var type')\n",
        "#         print(type(vt))\n",
        "#         if type(vr) == type(vt):\n",
        "#             print('data types match')\n",
        "#         else:\n",
        "#             print('data types incorrect')\n",
        "        \n",
        "# for kr,vr in returned_output_vars.items():\n",
        "#     # check for column datatypes (list, dict, string, object)\n",
        "#     print('returned var column types')\n",
        "#     # check the datatypes of individual columns in a pandas df\n",
        "#     print(vr.dtypes)\n",
        "#     for kt,vt in true_output_vars.items():\n",
        "#         # check for column datatypes (list, dict, string, object)\n",
        "#         print('true var column types')\n",
        "#         # check the datatypes of individual columns in a pandas df\n",
        "#         print(vt.dtypes)\n",
        "        \n",
        "# for kr,vr in returned_output_vars.items():\n",
        "#     # check the shape of a pandas df\n",
        "#     print('returned var df shape')\n",
        "#     r_rows_soln = vr.shape[0]\n",
        "#     r_cols_soln = vr.shape[1]\n",
        "#     print(r_rows_soln)\n",
        "#     print(r_cols_soln)\n",
        "#     for kt,vt in true_output_vars.items():\n",
        "#         # check the shape of a pandas df\n",
        "#         print('true var df shape')\n",
        "#         t_rows_soln = vr.shape[0]\n",
        "#         t_cols_soln = vr.shape[1]\n",
        "#         print(t_rows_soln)\n",
        "#         print(t_cols_soln)\n",
        "        \n",
        "# for kr,vr in returned_output_vars.items():\n",
        "#     # check the column names of a pandas df\n",
        "#     print('returned var df column names')\n",
        "#     r_my_list = vr.columns.values.tolist()\n",
        "#     print(r_my_list)\n",
        "#     for kt,vt in true_output_vars.items():\n",
        "#         # check the column names of a pandas df\n",
        "#         print('true var df column names')\n",
        "#         t_my_list = vr.columns.values.tolist()\n",
        "#         print(t_my_list)      \n"
      ]
    },
    {
      "cell_type": "markdown",
      "id": "bb834be5",
      "metadata": {
        "id": "bb834be5"
      },
      "source": [
        "#### Finally, if your output is a dataframe, and you need to compare the actual df values between your output and the solution, you can use the pandas compare() function to see the actual rows that are different.\n",
        "\n",
        "The caveat here, and the only way this will work, is if you have already verified that the following are true:\n",
        "\n",
        "1. Your dataframe has the same shape as the true output dataframe.\n",
        "2. Your dataframes column names are the same as the true output dataframe.\n",
        "3. Your dataframe column data types are the same as the true output dataframe.\n",
        "\n",
        "********************************************************************************************\n",
        "\n",
        "If your dataframe values are the same, the compare() function will return an empty DataFrame. The DataFrame produced by the compare() function will only have data if there are rows that are different, and it will only have the actual different rows in it."
      ]
    },
    {
      "cell_type": "markdown",
      "id": "3cc8faad",
      "metadata": {
        "id": "3cc8faad"
      },
      "source": [
        "#### The below code shows two ways of doing the compare. They effectively are doing the same thing, so you would only need to use one of them in your exam troubleshooting."
      ]
    },
    {
      "cell_type": "code",
      "execution_count": 5,
      "id": "1e344fc0",
      "metadata": {
        "id": "1e344fc0"
      },
      "outputs": [],
      "source": [
        "# # loop over the true output dict\n",
        "# # using .items()\n",
        "# for k_true,v_true in true_output_vars.items():\n",
        "#     # loop over your code output dict\n",
        "#     for k_returned,v_returned in returned_output_vars.items():\n",
        "#         print(v_true.compare(v_returned))\n",
        "\n",
        "# # loop over the true output dict\n",
        "# # using .keys()\n",
        "# for key in true_output_vars.keys() :\n",
        "#     true_val = (true_output_vars[key])\n",
        "#     for key in returned_output_vars.keys() :\n",
        "#         ret_val = (returned_output_vars[key])\n",
        "#         print(true_val.compare(ret_val))"
      ]
    }
  ],
  "metadata": {
    "kernelspec": {
      "display_name": "Python 3 (ipykernel)",
      "language": "python",
      "name": "python3"
    },
    "language_info": {
      "codemirror_mode": {
        "name": "ipython",
        "version": 3
      },
      "file_extension": ".py",
      "mimetype": "text/x-python",
      "name": "python",
      "nbconvert_exporter": "python",
      "pygments_lexer": "ipython3",
      "version": "3.9.13"
    },
    "colab": {
      "provenance": [],
      "include_colab_link": true
    }
  },
  "nbformat": 4,
  "nbformat_minor": 5
}