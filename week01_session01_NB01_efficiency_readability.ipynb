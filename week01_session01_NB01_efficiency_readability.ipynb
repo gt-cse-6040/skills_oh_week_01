{
  "cells": [
    {
      "cell_type": "markdown",
      "metadata": {
        "id": "view-in-github",
        "colab_type": "text"
      },
      "source": [
        "<a href=\"https://colab.research.google.com/github/gt-cse-6040/skills_oh_week_01/blob/main/week01_session01_NB01_efficiency_readability.ipynb\" target=\"_parent\"><img src=\"https://colab.research.google.com/assets/colab-badge.svg\" alt=\"Open In Colab\"/></a>"
      ]
    },
    {
      "cell_type": "markdown",
      "id": "34748d0e",
      "metadata": {
        "id": "34748d0e"
      },
      "source": [
        "# Efficiency and Readability, Function Development"
      ]
    },
    {
      "cell_type": "markdown",
      "id": "c4e66f19",
      "metadata": {
        "id": "c4e66f19"
      },
      "source": [
        "_Main topics covered during today's session:_\n",
        "\n",
        "\n",
        "This NB:\n",
        "1. **Asymptotic running time (or cost)** and **cost (or work) efficiency**, e.g., algorithms that scale like $\\mathcal{O}(n)$ vs. $\\mathcal{O}(n^2)$\n",
        "2. **Slicing notation**\n",
        "3. **List comprehensions**\n",
        "4. **Helper functions**\n",
        "\n",
        "\n",
        "Next NB:\n",
        "\n",
        "5. **Assert yourself:** Does my code do what I think it should?\n"
      ]
    },
    {
      "cell_type": "markdown",
      "id": "429ac7de",
      "metadata": {
        "id": "429ac7de"
      },
      "source": [
        "## Example: Cumulative Sums ##\n",
        "\n",
        "Consider a sequence of $n$ values, $[x_0, x_1, x_2, \\ldots, x_{n-1}]$. Its _cumulative sum_ (or _running sum_) is \n",
        "\n",
        "$$[x_0, \\underbrace{x_0+x_1}, \\underbrace{x_0+x_1+x_2}, \\ldots, \\underbrace{x_0+x_1+x_2+\\cdots+x_{n-1}}]$$.\n",
        "\n",
        "$$[x_0, \\underbrace{x_0+x_1}, \\underbrace{x_0+x_1+x_2}, \\ldots, \\underbrace{x_0+x_1+x_2+\\cdots+x_{n-1}}]$$.\n",
        "\n",
        "For example, the list\n",
        "\n",
        "```python\n",
        "    [5, 3, -4, 20, 2, 9, 0, -1]\n",
        "```\n",
        "\n",
        "has the following cumulative sum:\n",
        "\n",
        "```python\n",
        "    [5, 8, 4, 24, 26, 35, 35, 34]"
      ]
    },
    {
      "cell_type": "code",
      "execution_count": null,
      "id": "2fa99954",
      "metadata": {
        "id": "2fa99954"
      },
      "outputs": [],
      "source": [
        "# Set a variable for the\n",
        "# Running example:\n",
        "\n",
        "x = [5, 3, -4, 20, 2, 9, 0, -1]"
      ]
    },
    {
      "cell_type": "markdown",
      "id": "3f8ea2aa",
      "metadata": {
        "id": "3f8ea2aa"
      },
      "source": [
        "## A (very) naïve implementation ##\n",
        "\n",
        "1. Let $y = [y_0, y_1, \\ldots, y_{n-1}]$ denote the output sequence.\n",
        "2. For each $y_i$, calculate $y_i = x_0 + x_1 + \\cdots + x_i$"
      ]
    },
    {
      "cell_type": "code",
      "execution_count": null,
      "id": "fd8edf12",
      "metadata": {
        "id": "fd8edf12"
      },
      "outputs": [],
      "source": [
        "def cumulative_sum__v0(x):   # `x = [x[0], x[1], ..., x[n-1]]`\n",
        "    y = []                   # Holds the output, `y = [y[0], y[1], ..., y[n-1]]`; initially empty\n",
        "    for i in range(len(x)):  # Computes `y[i]` for every `i`\n",
        "        s = 0                # Lines 4-6: Compute `s = x[0] + x[1] + ... + x[i]`\n",
        "        for k in range(i+1):\n",
        "            s += x[k]\n",
        "        y.append(s)          # Line 7: `y[i] = s`\n",
        "    return y\n",
        "\n",
        "y = cumulative_sum__v0(x)\n",
        "y # In Jupyter, like `print(y)`"
      ]
    },
    {
      "cell_type": "markdown",
      "id": "25fe405d",
      "metadata": {
        "id": "25fe405d"
      },
      "source": [
        "### This implementation suffers from two problems:\n",
        "\n",
        "1. _Efficiency_. For an $n$-element input list, its **asymptotic cost (or work)** scales like $\\mathcal{O}(n^2)$. That should seem suspicious: the calculation seems simple enough, involving just $n$ inputs and $n$ outputs, and \"feels like\" it should only require a similar number of operations. That is, we should guess that there is a method that scales more like $\\mathcal{O}(n)$.\n",
        "\n",
        "2. _Readability_. Let's set aside the fact that it is slow and uses single-character variable names. It also has several levels of nesting and multiple variables to track. The more nesting there is and the more variables there are, the more effort a reader needs to understand what is happening."
      ]
    },
    {
      "cell_type": "markdown",
      "id": "ed83611f",
      "metadata": {
        "id": "ed83611f"
      },
      "source": [
        "### Revisions for readability ###\n",
        "\n",
        "We should fix the algorithm first, but as an exercise, let's start by tackling some of the readability issues. We'll write several versions and use a few Python idioms from the bootcamp to \"clean it up.\"\n",
        "\n",
        "**Slices and direct iteration over values.** In `cumulative_sum__v0`, consider the loop over `k` in lines 5-6:\n",
        "\n",
        "```python\n",
        "    for k in range(i+1):\n",
        "        s += x[k]\n",
        "```\n",
        "\n",
        "This loop has a higher-level interpretation: it performs a sum on the first `i+1` elements of `x`. Python has two basic constructs that can help express this higher-level idea more concisely:\n",
        "\n",
        "1. **Slices for sublists** — A sublist of `x`, beginning at position `a` and continuing up until but _excluding_ `b` in steps of size `s`, is written compactly as `x[a:b:s]`, with appropriate default values if any of `a`, `b`, or `s` are omitted.\n",
        "2. **Direct iteration over values** — Rather than iterating over positions and then indexing using the positions, you can iterate over the values of many types of collections directly.\n",
        "\n",
        "The next version applies these two ideas."
      ]
    },
    {
      "cell_type": "code",
      "execution_count": null,
      "id": "db13b16e",
      "metadata": {
        "id": "db13b16e"
      },
      "outputs": [],
      "source": [
        "def cumulative_sum__v1(x):\n",
        "    y = []\n",
        "    for i in range(len(x)):\n",
        "        s = 0\n",
        "        for e in x[:i+1]:\n",
        "            s += e\n",
        "        y.append(s)\n",
        "    return y\n",
        "        \n",
        "cumulative_sum__v1(x)"
      ]
    },
    {
      "cell_type": "markdown",
      "id": "829f04ab",
      "metadata": {
        "id": "829f04ab"
      },
      "source": [
        "**Higher-level primitives, e.g., `sum`.** Of course, the innermost loop does a sum, for which Python has a built-in function called `sum`. Remembering or learning how to discover such functions, whether by memory, reading documentation, or \"just-in-time\" Google searching, is a skill you should be building."
      ]
    },
    {
      "cell_type": "code",
      "execution_count": null,
      "id": "2cd2c082",
      "metadata": {
        "id": "2cd2c082"
      },
      "outputs": [],
      "source": [
        "def cumulative_sum__v2(x):\n",
        "    y = []\n",
        "    for i in range(len(x)):\n",
        "        s = sum(x[:i+1])\n",
        "        y.append(s)\n",
        "    return y\n",
        "\n",
        "cumulative_sum__v2(x)"
      ]
    },
    {
      "cell_type": "markdown",
      "id": "be4ede00",
      "metadata": {
        "id": "be4ede00"
      },
      "source": [
        "The pair of lines, `s = ...` and `y.append(s)` could be condensed as `y.append(sum(x[:i+1]))`. However, this compact form is arguably less readable."
      ]
    },
    {
      "cell_type": "code",
      "execution_count": null,
      "id": "41919986",
      "metadata": {
        "id": "41919986"
      },
      "outputs": [],
      "source": [
        "def cumulative_sum__v2b(x):\n",
        "    y = []\n",
        "    for i in range(len(x)):\n",
        "        y.append(sum(x[:i+1]))\n",
        "    return y\n",
        "\n",
        "cumulative_sum__v2b(x)"
      ]
    },
    {
      "cell_type": "markdown",
      "id": "4aba1f55",
      "metadata": {
        "id": "4aba1f55"
      },
      "source": [
        "**List comprehensions.** The `__v2b` version is an example of a common pattern or idiom, which is to generate a new collection where every element can (in principle) be generated independently of any other."
      ]
    },
    {
      "cell_type": "markdown",
      "id": "7c606732",
      "metadata": {
        "id": "7c606732"
      },
      "source": [
        "Consider the following general loop, which for each value in `x` applies a function `f` to it:\n",
        "\n",
        "```python\n",
        "y = []\n",
        "for e in x:\n",
        "    y.append(f(e))\n",
        "    \n",
        "**************\n",
        "    \n",
        "Observe that `f(e)` depends only on a given `e`, and not any other elements of `x`. Such constructions can be written in the compact form,\n",
        "\n",
        "```python\n",
        "y = [f(e) for e in x]\n",
        "```\n",
        "\n",
        "#### This form is a _list comprehension_. \n",
        "\n",
        "You can think of it as syntactic sugar, but actually, it's more than that. It expresses how to generate an entire collection of objects from a collection of input objects by applying a function to every element of the input."
      ]
    },
    {
      "cell_type": "markdown",
      "id": "e3c083b2",
      "metadata": {
        "id": "e3c083b2"
      },
      "source": [
        "> A Python implementation will execute the list comprehension \"serially,\" that is, in a manner that is identical to the first version. However, the _intent_ of a list comprehension is different.\n",
        ">\n",
        "> Regarding \"intent,\" consider an analogy to natural language. It is entirely correct to say, \"In my first meal of the day, that is, the one that I eat shortly after I wake up in the morning, I had ...\" But you can communicate your intent more quickly by saying, \"For breakfast, I had ...\""
      ]
    },
    {
      "cell_type": "markdown",
      "id": "a399c109",
      "metadata": {
        "id": "a399c109"
      },
      "source": [
        "Applying list comprehensions to our naïve cumulative sum:"
      ]
    },
    {
      "cell_type": "code",
      "execution_count": null,
      "id": "32599b29",
      "metadata": {
        "id": "32599b29"
      },
      "outputs": [],
      "source": [
        "def cumulative_sum__v3(x):\n",
        "    return [sum(x[:i+1]) for i in range(len(x))]\n",
        "\n",
        "cumulative_sum__v3(x)"
      ]
    },
    {
      "cell_type": "markdown",
      "id": "ab4b70a4",
      "metadata": {
        "id": "ab4b70a4"
      },
      "source": [
        "Cute? Yes! Readable? Hmmm...\n",
        "\n",
        "\n",
        "**Helper functions.** One way to make your code a little more readable is to break it up into smaller functions with meaningful names.\n",
        "\n",
        "In our cumulative sum example, the sublist `x[:i+1]` is intended to select the elements up to `i` (inclusive). So, let's use a little (inner) helper function to communicate this intent.\n",
        "\n",
        "> Pay attention to how this code is constructed, and in particular, what names are visible in what parts of the program."
      ]
    },
    {
      "cell_type": "code",
      "execution_count": null,
      "id": "d18fa688",
      "metadata": {
        "id": "d18fa688"
      },
      "outputs": [],
      "source": [
        "def cumulative_sum__v4(x):\n",
        "    def up_to(i):\n",
        "        return x[:i+1]\n",
        "    return [sum(up_to(i)) for i in range(len(x))]\n",
        "\n",
        "cumulative_sum__v4(x)"
      ]
    },
    {
      "cell_type": "markdown",
      "id": "5434fa4f",
      "metadata": {
        "id": "5434fa4f"
      },
      "source": [
        "### Revisions for efficiency ###\n",
        "\n",
        "The bigger problem with our original code is its _cost_ or _running time_, which scales quadratically with the size of the input. There is a lot of redundant computation, since the partial sums overlap:\n",
        "\n",
        "$$\\begin{array}{rcl}\n",
        "  y_0 & = & x_0 \\\\\n",
        "  y_1 & = & x_0 + x_1 \\\\\n",
        "  y_2 & = & x_0 + x_1 + x_2 \\\\\n",
        "      & \\cdots & \\\\\n",
        "  y_{n-1} & = & x_0 + x_1 + x_2 + \\cdots + x_{n-1}\n",
        "\\end{array}$$\n",
        "\n",
        "\n",
        "\n",
        "As most of you would have naturally deduced, you can easily remove the redundancies by maintaining a partial sum and updating that as you generate each output element:"
      ]
    },
    {
      "cell_type": "code",
      "execution_count": null,
      "id": "74b4c4ce",
      "metadata": {
        "id": "74b4c4ce"
      },
      "outputs": [],
      "source": [
        "def cumulative_sum__v5(x):\n",
        "    s = 0\n",
        "    y = []\n",
        "    for e in x:\n",
        "        s += e\n",
        "        y.append(s)\n",
        "    return y\n",
        "\n",
        "cumulative_sum__v5(x)"
      ]
    },
    {
      "cell_type": "markdown",
      "id": "94ee376b",
      "metadata": {
        "id": "94ee376b"
      },
      "source": [
        "This version is reasonable. It touches every entry of `x` just once (line 4), and each time it does so, it performs one addition (line 5). Therefore, the total number of additions is proportional to the size of the input, $\\mathcal{O}(n)$.\n",
        "\n",
        "***********************\n",
        "\n",
        "One minor issue is the \"extra\" intermediate value, `s`, which adds to what a reader has to track. Since the output list entries are themselves partial sums, once we know an output element, we know the partial sum needed to produce the next output element.\n",
        "\n",
        "***********************\n",
        "\n",
        "Here is a version that eliminates the use of `s`. It uses two more idiomatic forms from Python:\n",
        "\n",
        "1. To refer to elements of a list relative to the _end_ of the list, use negative indices. For example, `y[-1]` would refer to the last element of `y`, `y[-2]` would refer to the second-to-last element of `y`, and so on.\n",
        "2. This implementation \"seeds\" the output with a dummy partial sum that holds the value of `0`. But when we are done, we don't need that any more. To remove it, we can use the `.pop` method associated with `list` objects."
      ]
    },
    {
      "cell_type": "code",
      "execution_count": null,
      "id": "a6e63248",
      "metadata": {
        "id": "a6e63248"
      },
      "outputs": [],
      "source": [
        "def cumulative_sum__v6(x):\n",
        "    y = [0]\n",
        "    for e in x:\n",
        "        y.append(y[-1] + e)\n",
        "    y.pop(0) \n",
        "    return y\n",
        "\n",
        "print(cumulative_sum__v6(x))"
      ]
    },
    {
      "cell_type": "markdown",
      "id": "76a24116",
      "metadata": {
        "id": "76a24116"
      },
      "source": [
        "> As a final tweak, you can also use _slicing_ to extract all computed elements other than the first. How? (_Answer:_ Rather than use `y.pop(0)` followed by `return y`, try `return y[1:]`.)"
      ]
    }
  ],
  "metadata": {
    "kernelspec": {
      "display_name": "Python 3 (ipykernel)",
      "language": "python",
      "name": "python3"
    },
    "language_info": {
      "codemirror_mode": {
        "name": "ipython",
        "version": 3
      },
      "file_extension": ".py",
      "mimetype": "text/x-python",
      "name": "python",
      "nbconvert_exporter": "python",
      "pygments_lexer": "ipython3",
      "version": "3.9.13"
    },
    "colab": {
      "provenance": [],
      "include_colab_link": true
    }
  },
  "nbformat": 4,
  "nbformat_minor": 5
}