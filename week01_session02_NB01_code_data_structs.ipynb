{
  "cells": [
    {
      "cell_type": "markdown",
      "metadata": {
        "id": "view-in-github",
        "colab_type": "text"
      },
      "source": [
        "<a href=\"https://colab.research.google.com/github/gt-cse-6040/skills_oh_week_01/blob/main/week01_session02_NB01_code_data_structs.ipynb\" target=\"_parent\"><img src=\"https://colab.research.google.com/assets/colab-badge.svg\" alt=\"Open In Colab\"/></a>"
      ]
    },
    {
      "cell_type": "code",
      "source": [
        "!wget -q https://github.com/gt-cse-6040/skills_oh_week_01/raw/main/Screen%20Shot%202022-08-27%20at%206.23.51%20PM.png\n",
        "!wget -q https://github.com/gt-cse-6040/skills_oh_week_01/raw/main/Screen%20Shot%202022-08-27%20at%206.35.38%20PM.png"
      ],
      "metadata": {
        "id": "Qe6_wvtS4MEe"
      },
      "id": "Qe6_wvtS4MEe",
      "execution_count": null,
      "outputs": []
    },
    {
      "cell_type": "markdown",
      "id": "b389798d",
      "metadata": {
        "id": "b389798d"
      },
      "source": [
        "# Code and Data Structures"
      ]
    },
    {
      "cell_type": "markdown",
      "id": "3deb3c0d",
      "metadata": {
        "id": "3deb3c0d"
      },
      "source": [
        "_Main topics covered during today's session:_\n",
        "\n",
        "This NB:\n",
        "1. **Python Loops**\n",
        "2. **Comprehensions:  Lists, Dicts, Sets**\n",
        "\n",
        "Next NB:\n",
        "\n",
        "4. **References and Copies**\n",
        "\n",
        "Final NB:\n",
        "\n",
        "5. **Troubleshooting Data for the Exams**"
      ]
    },
    {
      "cell_type": "markdown",
      "id": "0c45749d",
      "metadata": {
        "id": "0c45749d"
      },
      "source": [
        "## Python Loop Types"
      ]
    },
    {
      "cell_type": "markdown",
      "id": "d394674b",
      "metadata": {
        "id": "d394674b"
      },
      "source": [
        "### 1. Iterate over a sequence"
      ]
    },
    {
      "cell_type": "code",
      "execution_count": null,
      "id": "e21f5dd8",
      "metadata": {
        "scrolled": true,
        "id": "e21f5dd8"
      },
      "outputs": [],
      "source": [
        "# Iterating over a list\n",
        "print(\"List Iteration\")\n",
        "\n",
        "l = [\"msa\", \"cse\", \"6040\"]\n",
        "for i in l:\n",
        "    print(i)\n",
        "\n",
        "# Iterating over a tuple (immutable)\n",
        "\n",
        "print(\"\\nTuple Iteration\")\n",
        "\n",
        "t = (\"msa\", \"cse\", \"6040\")\n",
        "for i in t:\n",
        "    print(i)\n",
        "\n",
        "# Iterating over a String\n",
        "print(\"\\nString Iteration\")\n",
        "s = \"msa cse 6040\"\n",
        "for i in s :\n",
        "    print(i)\n",
        "\n",
        "# Iterating over dictionary\n",
        "print(\"\\nDictionary Iteration\")\n",
        "d = dict()\n",
        "d['0'] = \"msa\"\n",
        "d['1'] = \"cse\"\n",
        "d['2'] = '6040'\n",
        "for i in d :\n",
        "    print(\"{} : {}\".format(i , d[i]))\n",
        "\n",
        "#Iterating over a set\n",
        "print(\"\\nSet Iteration\")\n",
        "set1 = {1,2,3,4,5,6}\n",
        "for i in set1:\n",
        "    print(i)"
      ]
    },
    {
      "cell_type": "markdown",
      "id": "f4d30267",
      "metadata": {
        "id": "f4d30267"
      },
      "source": [
        "### 2. Iterating over a sequence by index"
      ]
    },
    {
      "cell_type": "code",
      "execution_count": null,
      "id": "0b9075e2",
      "metadata": {
        "id": "0b9075e2"
      },
      "outputs": [],
      "source": [
        "course_list = ['msa' , 'cse' , '6040'] \n",
        "\n",
        "for index in range(len(course_list)):\n",
        "    print(course_list[index])\n",
        "    \n",
        "for index in range(len(course_list)):\n",
        "    print(index)"
      ]
    },
    {
      "cell_type": "markdown",
      "id": "8f911867",
      "metadata": {
        "id": "8f911867"
      },
      "source": [
        "#### Very useful - range() function "
      ]
    },
    {
      "cell_type": "code",
      "execution_count": null,
      "id": "a333a05b",
      "metadata": {
        "id": "a333a05b"
      },
      "outputs": [],
      "source": [
        "a = list(range(5))\n",
        "b = list(range(5,10))\n",
        "c = list(range(0,10,3))"
      ]
    },
    {
      "cell_type": "code",
      "execution_count": null,
      "id": "24fec3b5",
      "metadata": {
        "id": "24fec3b5"
      },
      "outputs": [],
      "source": [
        "print('One argument form - {}'.format(a))\n",
        "print('Two argument form - {}'.format(b))\n",
        "print('Three argument form - {}'.format(c))"
      ]
    },
    {
      "cell_type": "markdown",
      "id": "d8f1241f",
      "metadata": {
        "id": "d8f1241f"
      },
      "source": [
        "Please look at this link for more details - https://cs.stanford.edu/people/nick/py/python-range.html"
      ]
    },
    {
      "cell_type": "markdown",
      "id": "eb5790df",
      "metadata": {
        "id": "eb5790df"
      },
      "source": [
        "# Topic 2 -  Comprehensions in Python"
      ]
    },
    {
      "cell_type": "markdown",
      "id": "8a994dea",
      "metadata": {
        "id": "8a994dea"
      },
      "source": [
        "1. List Comprehension\n",
        "2. Dictionary Comprehension\n",
        "3. Set Comprehension"
      ]
    },
    {
      "cell_type": "markdown",
      "id": "0cb7233f",
      "metadata": {
        "id": "0cb7233f"
      },
      "source": [
        "### 1. List Comprehension"
      ]
    },
    {
      "cell_type": "markdown",
      "id": "df482063",
      "metadata": {
        "id": "df482063"
      },
      "source": [
        "A list comprehension consists of the following parts - \n",
        "1. An Input Sequence.\n",
        "2. A Variable representing members of the input sequence.\n",
        "3. An optional Conditional Expression.\n",
        "4. An Output Expression producing elements of the output list from members of the Input Sequence that satisfy the predicate."
      ]
    },
    {
      "cell_type": "code",
      "execution_count": null,
      "id": "69bfcb83",
      "metadata": {
        "id": "69bfcb83"
      },
      "outputs": [],
      "source": [
        "a_list = [1, '4', 9, 'a', 0, 4]\n",
        "\n",
        "sq_list = []\n",
        "for element in a_list:\n",
        "    if(type(element) == int):\n",
        "        sq_list.append(element*element)\n",
        "        \n",
        "sq_list"
      ]
    },
    {
      "cell_type": "code",
      "execution_count": null,
      "id": "0b8beb51",
      "metadata": {
        "id": "0b8beb51"
      },
      "outputs": [],
      "source": [
        "a_list"
      ]
    },
    {
      "cell_type": "code",
      "execution_count": null,
      "id": "ce438b10",
      "metadata": {
        "id": "ce438b10"
      },
      "outputs": [],
      "source": [
        "a_list = [1, '4', 9, 'a', 0, 4]\n",
        "\n",
        "squared_ints = [e**2 for e in a_list if type(e) == int]\n",
        "\n",
        "print(squared_ints)"
      ]
    },
    {
      "cell_type": "markdown",
      "id": "ac85630d",
      "metadata": {
        "id": "ac85630d"
      },
      "source": [
        "![Screen%20Shot%202022-08-27%20at%206.23.51%20PM.png](https://github.com/gt-cse-6040/skills_oh_week_01/blob/main/Screen%20Shot%202022-08-27%20at%206.23.51%20PM.png?raw=1)"
      ]
    },
    {
      "cell_type": "code",
      "execution_count": null,
      "id": "6382d698",
      "metadata": {
        "id": "6382d698"
      },
      "outputs": [],
      "source": [
        "my_list = [1,2,3,4,5,6,7,8,9,10]\n",
        "new_list_loop = []\n",
        "for number in my_list:\n",
        "    if number % 2 == 0:\n",
        "        new_list_loop.append(number + 1)\n",
        "new_list_loop"
      ]
    },
    {
      "cell_type": "code",
      "execution_count": null,
      "id": "eeeab2f3",
      "metadata": {
        "id": "eeeab2f3"
      },
      "outputs": [],
      "source": [
        "my_list = [1,2,3,4,5,6,7,8,9,10]\n",
        "\n",
        "new_list = [number + 1 for number in my_list if number % 2 == 0]\n",
        "\n",
        "# new_list_1 = [number + 1 if number % 2 == 0 else 7 for number in my_list ]\n",
        "\n",
        "new_list"
      ]
    },
    {
      "cell_type": "code",
      "execution_count": null,
      "id": "b0682d8d",
      "metadata": {
        "id": "b0682d8d"
      },
      "outputs": [],
      "source": [
        "colors = [\"pink\", \"white\", \"blue\", \"black\", \"purple\"]\n",
        "[color.upper() for color in colors]"
      ]
    },
    {
      "cell_type": "code",
      "execution_count": null,
      "id": "ce28c02e",
      "metadata": {
        "id": "ce28c02e"
      },
      "outputs": [],
      "source": [
        "presidents_usa = [\"George Washington\", \"John Adams\",\"Thomas Jefferson\",\"James Madison\",\"James Monroe\",\"John Adams\",\"Andrew Jackson\"]\n",
        "split_names = [name.split(\" \") for name in presidents_usa]\n",
        "swapped_list = [split_name[1] + \" \" + split_name[0] for split_name in split_names]\n",
        "swapped_list"
      ]
    },
    {
      "cell_type": "markdown",
      "id": "2a9e5bc0",
      "metadata": {
        "id": "2a9e5bc0"
      },
      "source": [
        "Let's now try to make this matrix using comprehensions. It will need a nested comprehension\n",
        "![Screen Shot 2022-08-27 at 06.35.38 PM.png](https://github.com/gt-cse-6040/skills_oh_week_01/blob/main/Screen%20Shot%202022-08-27%20at%206.35.38%20PM.png?raw=1)"
      ]
    },
    {
      "cell_type": "code",
      "execution_count": null,
      "id": "a1522c5c",
      "metadata": {
        "id": "a1522c5c"
      },
      "outputs": [],
      "source": [
        "cols = []\n",
        "rows = []\n",
        "for row in range(3):\n",
        "    for col in range(3):\n",
        "        if(col == row):\n",
        "            cols.append(1)\n",
        "        else:\n",
        "            cols.append(0)\n",
        "    rows.append(cols)\n",
        "    cols = []\n",
        "rows"
      ]
    },
    {
      "cell_type": "code",
      "execution_count": null,
      "id": "c34440e5",
      "metadata": {
        "id": "c34440e5"
      },
      "outputs": [],
      "source": [
        "identity_matrix = [ [ 1 if item_idx == row_idx else 0 for item_idx in range(0, 3) ] for row_idx in range(0, 3) ]"
      ]
    },
    {
      "cell_type": "code",
      "execution_count": null,
      "id": "5d7d0ae1",
      "metadata": {
        "id": "5d7d0ae1"
      },
      "outputs": [],
      "source": [
        "identity_matrix"
      ]
    },
    {
      "cell_type": "markdown",
      "id": "4473ecb0",
      "metadata": {
        "id": "4473ecb0"
      },
      "source": [
        "### 2. Dictionary Comprehension"
      ]
    },
    {
      "cell_type": "raw",
      "id": "19200607",
      "metadata": {
        "id": "19200607"
      },
      "source": [
        "my_dict = [<key>:<value> for <item> in <iterable> if <condition>]\n",
        "type(my_dict)"
      ]
    },
    {
      "cell_type": "code",
      "execution_count": null,
      "id": "5faf82e6",
      "metadata": {
        "id": "5faf82e6"
      },
      "outputs": [],
      "source": [
        "persons = [\n",
        "    {\n",
        "        'name': 'Alice',\n",
        "        'age': 30,\n",
        "        'title': 'Data Scientist'\n",
        "    },\n",
        "    {\n",
        "        'name': 'Bob',\n",
        "        'age': 35,\n",
        "        'title': 'Data Engineer'\n",
        "    },\n",
        "    {\n",
        "        'name': 'Chris',\n",
        "        'age': 33,\n",
        "        'title': 'Machine Learning Engineer'\n",
        "    }\n",
        "]"
      ]
    },
    {
      "cell_type": "code",
      "execution_count": null,
      "id": "c49d4127",
      "metadata": {
        "id": "c49d4127"
      },
      "outputs": [],
      "source": [
        "data_employees_loop = {}\n",
        "for p in persons:\n",
        "    if 'Data' in p['title']:\n",
        "        data_employees_loop[p['name']] = p['title']"
      ]
    },
    {
      "cell_type": "code",
      "execution_count": null,
      "id": "234d9d2c",
      "metadata": {
        "id": "234d9d2c"
      },
      "outputs": [],
      "source": [
        "data_employees_loop"
      ]
    },
    {
      "cell_type": "code",
      "execution_count": null,
      "id": "07e8ec51",
      "metadata": {
        "id": "07e8ec51"
      },
      "outputs": [],
      "source": [
        "data_employees_comprehension = {p['name']:p['title'] for p in persons if 'Data' in p['title']}\n",
        "data_employees_comprehension"
      ]
    },
    {
      "cell_type": "markdown",
      "id": "dd012be1",
      "metadata": {
        "id": "dd012be1"
      },
      "source": [
        "### 3. Set Comprehension"
      ]
    },
    {
      "cell_type": "raw",
      "id": "6254ead7",
      "metadata": {
        "id": "6254ead7"
      },
      "source": [
        "my_set = {<expression> for <item> in <iterable> if <condition>}"
      ]
    },
    {
      "cell_type": "code",
      "execution_count": null,
      "id": "af0e8c3a",
      "metadata": {
        "id": "af0e8c3a"
      },
      "outputs": [],
      "source": [
        "data_employees_set_loop = set()\n",
        "for p in persons:\n",
        "    if 'Data' in p['title']:\n",
        "        data_employees_set_loop.add(p['name'])"
      ]
    },
    {
      "cell_type": "code",
      "execution_count": null,
      "id": "41cc1ac0",
      "metadata": {
        "id": "41cc1ac0"
      },
      "outputs": [],
      "source": [
        "data_employees_set_loop"
      ]
    },
    {
      "cell_type": "code",
      "execution_count": null,
      "id": "39b3dd67",
      "metadata": {
        "id": "39b3dd67"
      },
      "outputs": [],
      "source": [
        "data_employees_set_comprehension = {p['name'] for p in persons if 'Data' in p['title']}"
      ]
    },
    {
      "cell_type": "code",
      "execution_count": null,
      "id": "8b105446",
      "metadata": {
        "id": "8b105446"
      },
      "outputs": [],
      "source": [
        "data_employees_set_comprehension"
      ]
    }
  ],
  "metadata": {
    "kernelspec": {
      "display_name": "Python 3 (ipykernel)",
      "language": "python",
      "name": "python3"
    },
    "language_info": {
      "codemirror_mode": {
        "name": "ipython",
        "version": 3
      },
      "file_extension": ".py",
      "mimetype": "text/x-python",
      "name": "python",
      "nbconvert_exporter": "python",
      "pygments_lexer": "ipython3",
      "version": "3.9.13"
    },
    "colab": {
      "provenance": [],
      "include_colab_link": true
    }
  },
  "nbformat": 4,
  "nbformat_minor": 5
}