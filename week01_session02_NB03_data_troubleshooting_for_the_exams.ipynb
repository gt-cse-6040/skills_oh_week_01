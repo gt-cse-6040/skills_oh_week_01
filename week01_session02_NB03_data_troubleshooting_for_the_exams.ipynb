{
  "cells": [
    {
      "cell_type": "markdown",
      "metadata": {
        "id": "view-in-github",
        "colab_type": "text"
      },
      "source": [
        "<a href=\"https://colab.research.google.com/github/gt-cse-6040/skills_oh_week_01/blob/main/week01_session02_NB03_data_troubleshooting_for_the_exams.ipynb\" target=\"_parent\"><img src=\"https://colab.research.google.com/assets/colab-badge.svg\" alt=\"Open In Colab\"/></a>"
      ]
    },
    {
      "cell_type": "code",
      "source": [
        "!wget -q https://raw.githubusercontent.com/gt-cse-6040/skills_oh_week_01/main/nb_1_2_tester.py\n",
        "!wget -q https://github.com/gt-cse-6040/skills_oh_week_01/raw/main/test_cases.pkl\n",
        "!wget -q https://raw.githubusercontent.com/gt-cse-6040/skills_oh_week_01/main/tester_6040.py"
      ],
      "metadata": {
        "id": "PNGI4vG_FThm"
      },
      "execution_count": 3,
      "outputs": []
    },
    {
      "cell_type": "markdown",
      "metadata": {
        "id": "BMcQ1E1MCMmM"
      },
      "source": [
        "# Data Troubleshooting on the Exams"
      ]
    },
    {
      "cell_type": "markdown",
      "metadata": {
        "nbgrader": {
          "grade": false,
          "grade_id": "cell-3b25f2b6cfc80b65",
          "locked": true,
          "schema_version": 1,
          "solution": false
        },
        "id": "adrd0iFoCMmO"
      },
      "source": [
        "### This sample notebook is to show you the testing paradigm that you will face on all of the exams.\n",
        "\n",
        "The notebook contains Exercise 0 from Notebook 1, Part 2.\n",
        "\n",
        "What we are going to do is write code that purposely fails the exercise, to show you how to troubleshoot data errors on the exams."
      ]
    },
    {
      "cell_type": "code",
      "execution_count": 4,
      "metadata": {
        "id": "yCbFUd8OCMmP"
      },
      "outputs": [],
      "source": [
        "%load_ext autoreload\n",
        "%autoreload 2"
      ]
    },
    {
      "cell_type": "code",
      "execution_count": 5,
      "metadata": {
        "id": "d9Ik8p2tCMmQ"
      },
      "outputs": [],
      "source": [
        "import pickle\n",
        "# with open('resource/asnlib/publicdata/test_cases.pkl', 'rb') as fin:\n",
        "#     cases = pickle.load(fin)\n",
        "with open('test_cases.pkl', 'rb') as fin:\n",
        "    cases = pickle.load(fin)"
      ]
    },
    {
      "cell_type": "markdown",
      "metadata": {
        "nbgrader": {
          "grade": false,
          "grade_id": "cell-f3331b5182117a1f",
          "locked": true,
          "schema_version": 1,
          "solution": false
        },
        "id": "dmQ3_W7OCMmR"
      },
      "source": [
        "Consider the following dataset of exam grades, organized as a 2-D table and stored in Python as a \"list of lists\" under the variable name, `grades`."
      ]
    },
    {
      "cell_type": "code",
      "execution_count": 6,
      "metadata": {
        "nbgrader": {
          "grade": false,
          "grade_id": "cell-9dc72b683a8858c7",
          "locked": true,
          "schema_version": 1,
          "solution": false
        },
        "id": "hCARYkEHCMmS",
        "outputId": "6a7632cd-397f-4a15-bce8-e44d59139c65",
        "colab": {
          "base_uri": "https://localhost:8080/"
        }
      },
      "outputs": [
        {
          "output_type": "execute_result",
          "data": {
            "text/plain": [
              "[['Student', 'Exam 1', 'Exam 2', 'Exam 3'],\n",
              " ['Thorny', '100', '90', '80'],\n",
              " ['Mac', '88', '99', '111'],\n",
              " ['Farva', '45', '56', '67'],\n",
              " ['Rabbit', '59', '61', '67'],\n",
              " ['Ursula', '73', '79', '83'],\n",
              " ['Foster', '89', '97', '101']]"
            ]
          },
          "metadata": {},
          "execution_count": 6
        }
      ],
      "source": [
        "grades = [\n",
        "    # First line is descriptive header. Subsequent lines hold data\n",
        "    ['Student', 'Exam 1', 'Exam 2', 'Exam 3'],\n",
        "    ['Thorny', '100', '90', '80'],\n",
        "    ['Mac', '88', '99', '111'],\n",
        "    ['Farva', '45', '56', '67'],\n",
        "    ['Rabbit', '59', '61', '67'],\n",
        "    ['Ursula', '73', '79', '83'],\n",
        "    ['Foster', '89', '97', '101']\n",
        "]\n",
        "\n",
        "grades"
      ]
    },
    {
      "cell_type": "markdown",
      "metadata": {
        "nbgrader": {
          "grade": false,
          "grade_id": "cell-04082681e80572d5",
          "locked": true,
          "schema_version": 1,
          "solution": false
        },
        "id": "on5Jga-iCMmT"
      },
      "source": [
        "**Exercise 0** (`students_test`: 1 point). Complete the function `get_students` which takes a nested list `grades` as a parameter and reutrns a new list, `students`, which holds the names of the students as they from \"top to bottom\" in the table. \n",
        "- **Note**: the parameter `grades` will be similar to the table above in structure, but the data will be different."
      ]
    },
    {
      "cell_type": "code",
      "execution_count": 7,
      "metadata": {
        "nbgrader": {
          "grade": false,
          "grade_id": "students",
          "locked": false,
          "schema_version": 1,
          "solution": true
        },
        "id": "lBuaE5cxCMmT"
      },
      "outputs": [],
      "source": [
        "def get_students(grades):\n",
        "    ###\n",
        "    ### YOUR CODE HERE\n",
        "    ###\n",
        "    \n",
        "    # Larry's code below\n",
        "    students = []\n",
        "\n",
        "    for i in grades:\n",
        "        if i[0] != 'Student':   #correct code\n",
        "#         if i[0] == 'Student':   #incorrect code, for illustration\n",
        "            students.append(i[0])\n",
        "    return students\n",
        "    "
      ]
    },
    {
      "cell_type": "markdown",
      "metadata": {
        "id": "dVi_Nk7cCMmU"
      },
      "source": [
        "#### Note the demo cell below. This is designed to give you some sample data, to help you to get your code up and running. You will see these for every exercise on all of the exams."
      ]
    },
    {
      "cell_type": "markdown",
      "metadata": {
        "nbgrader": {
          "grade": false,
          "locked": true,
          "solution": false
        },
        "id": "r9N9IZGZCMmV"
      },
      "source": [
        "The demo cell below should display `['Thorny', 'Mac', 'Farva', 'Rabbit', 'Ursula', 'Foster']`."
      ]
    },
    {
      "cell_type": "code",
      "execution_count": 8,
      "metadata": {
        "nbgrader": {
          "grade": false,
          "locked": true,
          "solution": false
        },
        "id": "CKse-RgeCMmV",
        "outputId": "b137399d-db41-4026-b28c-b1cf41e169e4",
        "colab": {
          "base_uri": "https://localhost:8080/"
        }
      },
      "outputs": [
        {
          "output_type": "execute_result",
          "data": {
            "text/plain": [
              "['Thorny', 'Mac', 'Farva', 'Rabbit', 'Ursula', 'Foster']"
            ]
          },
          "metadata": {},
          "execution_count": 8
        }
      ],
      "source": [
        "students = get_students(grades)\n",
        "students"
      ]
    },
    {
      "cell_type": "markdown",
      "metadata": {
        "id": "62vGueXyCMmW"
      },
      "source": [
        "#### Note that I can pass the demo cell and still fail the test cell!!!\n",
        "\n",
        "This will be ONE OF THE BIGGEST PROBLEMS for students on the exams.\n",
        "\n",
        "Students think that, because they passed the DEMO CELL, it means that they WILL ALSO pass the TEST CELL.\n",
        "\n",
        "This IS NOT the case, as the DEMO CELL is designed to give you some SAMPLE DATA, to help you get your code up and running."
      ]
    },
    {
      "cell_type": "markdown",
      "metadata": {
        "id": "U2vTAzG2CMmW"
      },
      "source": [
        "## The DEMO CELL IS NOT a full test of your code, and you can easily pass the DEMO CELL and FAIL the TEST CELL!!! \n",
        "\n",
        "## The TEST CELL is a FULL TEST of your code, and it is much more extensive than the DEMO CELL.\n",
        "\n",
        "## So be aware that you can pass the DEMO CELL and still fail the TEST CELL."
      ]
    },
    {
      "cell_type": "markdown",
      "metadata": {
        "nbgrader": {
          "grade": false,
          "locked": true,
          "solution": false
        },
        "id": "zDyT6zjCCMmW"
      },
      "source": [
        "The test cell below will check your solution against several randomly generated test cases. If your solution does not pass the test (or if you're just curious), you can look at the variables used in the latest test run. They are automatically imported for you as part of the test.\n",
        "\n",
        "- `input_vars` - Dictionary containing all of the inputs to your function. Keys are the parameter names.\n",
        "- `original_input_vars` - Dictionary containing a copy of all the inputs to your function. This is useful for debugging failures related to your solution modifying the input. Keys are the parameter names.\n",
        "- `returned_output_vars` - Dictionary containing the outputs your function generated. If there are multiple outputs, the keys will match the names mentioned in the exercrise instructions.\n",
        "- `true_output_vars` - Dictionary containing the outputs your function **should have** generated. If there are multiple outputs, the keys will match the names mentioned in the exercrise instructions.\n",
        "\n",
        "All of the test cells in this notebook will use the same format, and you can expect a similar format on your exams as well."
      ]
    },
    {
      "cell_type": "code",
      "execution_count": 9,
      "metadata": {
        "nbgrader": {
          "grade": true,
          "grade_id": "students_test",
          "locked": true,
          "points": "1",
          "solution": false
        },
        "id": "FVf23-_ACMmX",
        "outputId": "6c2b7bfa-eeab-4dd0-fd67-7e05182f3ca8",
        "colab": {
          "base_uri": "https://localhost:8080/"
        }
      },
      "outputs": [
        {
          "output_type": "stream",
          "name": "stdout",
          "text": [
            "Passed. Please submit!\n"
          ]
        }
      ],
      "source": [
        "# `students_test`: Test cell\n",
        "import nb_1_2_tester\n",
        "tester = nb_1_2_tester.Tester_1_2_0()\n",
        "for _ in range(20):\n",
        "    try:\n",
        "        tester.run_test(get_students)\n",
        "        (input_vars, original_input_vars, returned_output_vars, true_output_vars) = tester.get_test_vars()\n",
        "    except:\n",
        "        (input_vars, original_input_vars, returned_output_vars, true_output_vars) = tester.get_test_vars()\n",
        "        raise\n",
        "print('Passed. Please submit!')"
      ]
    },
    {
      "cell_type": "markdown",
      "metadata": {
        "id": "wbZ0ZjaLCMmX"
      },
      "source": [
        "#### So we have run through and passed the test, now let's deliberately fail, and be forced to troubleshoot."
      ]
    },
    {
      "cell_type": "code",
      "execution_count": 10,
      "metadata": {
        "id": "EVDVLvMuCMmY"
      },
      "outputs": [],
      "source": [
        "def get_students(grades):\n",
        "    ###\n",
        "    ### YOUR CODE HERE\n",
        "    ###\n",
        "    \n",
        "    # Larry's code below\n",
        "    students = []\n",
        "\n",
        "    for i in grades:\n",
        "#         if i[0] != 'Student':   #correct code\n",
        "        if i[0] == 'Student':   #incorrect code, for illustration\n",
        "            students.append(i[0])\n",
        "    return students"
      ]
    },
    {
      "cell_type": "code",
      "execution_count": 11,
      "metadata": {
        "id": "FC5-OqR7CMmY",
        "outputId": "28d3e57e-8c00-4faf-c26d-fddc5da5a130",
        "colab": {
          "base_uri": "https://localhost:8080/"
        }
      },
      "outputs": [
        {
          "output_type": "execute_result",
          "data": {
            "text/plain": [
              "['Student']"
            ]
          },
          "metadata": {},
          "execution_count": 11
        }
      ],
      "source": [
        "students = get_students(grades)\n",
        "students"
      ]
    },
    {
      "cell_type": "markdown",
      "metadata": {
        "id": "4dJCEWZGCMmZ"
      },
      "source": [
        "The test cell below will check your solution against several randomly generated test cases. If your solution does not pass the test (or if you're just curious), you can look at the variables used in the latest test run. They are automatically imported for you as part of the test.\n",
        "\n",
        "- `input_vars` - Dictionary containing all of the inputs to your function. Keys are the parameter names.\n",
        "- `original_input_vars` - Dictionary containing a copy of all the inputs to your function. This is useful for debugging failures related to your solution modifying the input. Keys are the parameter names.\n",
        "- `returned_output_vars` - Dictionary containing the outputs your function generated. If there are multiple outputs, the keys will match the names mentioned in the exercrise instructions.\n",
        "- `true_output_vars` - Dictionary containing the outputs your function **should have** generated. If there are multiple outputs, the keys will match the names mentioned in the exercrise instructions.\n",
        "\n",
        "All of the test cells in this notebook will use the same format, and you can expect a similar format on your exams as well."
      ]
    },
    {
      "cell_type": "code",
      "execution_count": 12,
      "metadata": {
        "id": "3V-FotmBCMma",
        "outputId": "cbc082cb-4ccc-45b7-948c-25c90e3b7d91",
        "colab": {
          "base_uri": "https://localhost:8080/",
          "height": 400
        }
      },
      "outputs": [
        {
          "output_type": "error",
          "ename": "AssertionError",
          "evalue": "ignored",
          "traceback": [
            "\u001b[0;31m---------------------------------------------------------------------------\u001b[0m",
            "\u001b[0;31mAssertionError\u001b[0m                            Traceback (most recent call last)",
            "\u001b[0;32m<ipython-input-12-d026755ccdb2>\u001b[0m in \u001b[0;36m<module>\u001b[0;34m\u001b[0m\n\u001b[1;32m      4\u001b[0m \u001b[0;32mfor\u001b[0m \u001b[0m_\u001b[0m \u001b[0;32min\u001b[0m \u001b[0mrange\u001b[0m\u001b[0;34m(\u001b[0m\u001b[0;36m20\u001b[0m\u001b[0;34m)\u001b[0m\u001b[0;34m:\u001b[0m\u001b[0;34m\u001b[0m\u001b[0;34m\u001b[0m\u001b[0m\n\u001b[1;32m      5\u001b[0m     \u001b[0;32mtry\u001b[0m\u001b[0;34m:\u001b[0m\u001b[0;34m\u001b[0m\u001b[0;34m\u001b[0m\u001b[0m\n\u001b[0;32m----> 6\u001b[0;31m         \u001b[0mtester\u001b[0m\u001b[0;34m.\u001b[0m\u001b[0mrun_test\u001b[0m\u001b[0;34m(\u001b[0m\u001b[0mget_students\u001b[0m\u001b[0;34m)\u001b[0m\u001b[0;34m\u001b[0m\u001b[0;34m\u001b[0m\u001b[0m\n\u001b[0m\u001b[1;32m      7\u001b[0m         \u001b[0;34m(\u001b[0m\u001b[0minput_vars\u001b[0m\u001b[0;34m,\u001b[0m \u001b[0moriginal_input_vars\u001b[0m\u001b[0;34m,\u001b[0m \u001b[0mreturned_output_vars\u001b[0m\u001b[0;34m,\u001b[0m \u001b[0mtrue_output_vars\u001b[0m\u001b[0;34m)\u001b[0m \u001b[0;34m=\u001b[0m \u001b[0mtester\u001b[0m\u001b[0;34m.\u001b[0m\u001b[0mget_test_vars\u001b[0m\u001b[0;34m(\u001b[0m\u001b[0;34m)\u001b[0m\u001b[0;34m\u001b[0m\u001b[0;34m\u001b[0m\u001b[0m\n\u001b[1;32m      8\u001b[0m     \u001b[0;32mexcept\u001b[0m\u001b[0;34m:\u001b[0m\u001b[0;34m\u001b[0m\u001b[0;34m\u001b[0m\u001b[0m\n",
            "\u001b[0;32m/content/tester_6040.py\u001b[0m in \u001b[0;36mrun_test\u001b[0;34m(self, func)\u001b[0m\n\u001b[1;32m     34\u001b[0m         \u001b[0mself\u001b[0m\u001b[0;34m.\u001b[0m\u001b[0mcheck_modified\u001b[0m\u001b[0;34m(\u001b[0m\u001b[0;34m)\u001b[0m    \u001b[0;31m# Check to verify inputs were not modified\u001b[0m\u001b[0;34m\u001b[0m\u001b[0;34m\u001b[0m\u001b[0m\n\u001b[1;32m     35\u001b[0m         \u001b[0mself\u001b[0m\u001b[0;34m.\u001b[0m\u001b[0mcheck_type\u001b[0m\u001b[0;34m(\u001b[0m\u001b[0;34m)\u001b[0m        \u001b[0;31m# Check to verify correct output types\u001b[0m\u001b[0;34m\u001b[0m\u001b[0;34m\u001b[0m\u001b[0m\n\u001b[0;32m---> 36\u001b[0;31m         \u001b[0mself\u001b[0m\u001b[0;34m.\u001b[0m\u001b[0mcheck_matches\u001b[0m\u001b[0;34m(\u001b[0m\u001b[0;34m)\u001b[0m     \u001b[0;31m# Check to verify correct output\u001b[0m\u001b[0;34m\u001b[0m\u001b[0;34m\u001b[0m\u001b[0m\n\u001b[0m\u001b[1;32m     37\u001b[0m \u001b[0;34m\u001b[0m\u001b[0m\n\u001b[1;32m     38\u001b[0m     \u001b[0;31m# Do not override this method\u001b[0m\u001b[0;34m\u001b[0m\u001b[0;34m\u001b[0m\u001b[0;34m\u001b[0m\u001b[0m\n",
            "\u001b[0;32m/content/nb_1_2_tester.py\u001b[0m in \u001b[0;36mcheck_matches\u001b[0;34m(self)\u001b[0m\n\u001b[1;32m     19\u001b[0m \u001b[0;34m\u001b[0m\u001b[0m\n\u001b[1;32m     20\u001b[0m     \u001b[0;32mdef\u001b[0m \u001b[0mcheck_matches\u001b[0m\u001b[0;34m(\u001b[0m\u001b[0mself\u001b[0m\u001b[0;34m)\u001b[0m\u001b[0;34m:\u001b[0m\u001b[0;34m\u001b[0m\u001b[0;34m\u001b[0m\u001b[0m\n\u001b[0;32m---> 21\u001b[0;31m         \u001b[0;32massert\u001b[0m \u001b[0mself\u001b[0m\u001b[0;34m.\u001b[0m\u001b[0mreturned_output_vars\u001b[0m\u001b[0;34m[\u001b[0m\u001b[0;34m'students'\u001b[0m\u001b[0;34m]\u001b[0m \u001b[0;34m==\u001b[0m \u001b[0mself\u001b[0m\u001b[0;34m.\u001b[0m\u001b[0mtrue_output_vars\u001b[0m\u001b[0;34m[\u001b[0m\u001b[0;34m'students'\u001b[0m\u001b[0;34m]\u001b[0m\u001b[0;34m,\u001b[0m \u001b[0;34m'Your output for `students` does not match the expected output.'\u001b[0m\u001b[0;34m\u001b[0m\u001b[0;34m\u001b[0m\u001b[0m\n\u001b[0m\u001b[1;32m     22\u001b[0m \u001b[0;34m\u001b[0m\u001b[0m\n\u001b[1;32m     23\u001b[0m \u001b[0;32mclass\u001b[0m \u001b[0mTester_1_2_1\u001b[0m\u001b[0;34m(\u001b[0m\u001b[0mExerciseTester\u001b[0m\u001b[0;34m)\u001b[0m\u001b[0;34m:\u001b[0m\u001b[0;34m\u001b[0m\u001b[0;34m\u001b[0m\u001b[0m\n",
            "\u001b[0;31mAssertionError\u001b[0m: Your output for `students` does not match the expected output."
          ]
        }
      ],
      "source": [
        "# `students_test`: Test cell\n",
        "import nb_1_2_tester\n",
        "tester = nb_1_2_tester.Tester_1_2_0()\n",
        "for _ in range(20):\n",
        "    try:\n",
        "        tester.run_test(get_students)\n",
        "        (input_vars, original_input_vars, returned_output_vars, true_output_vars) = tester.get_test_vars()\n",
        "    except:\n",
        "        (input_vars, original_input_vars, returned_output_vars, true_output_vars) = tester.get_test_vars()\n",
        "        raise\n",
        "print('Passed. Please submit!')"
      ]
    },
    {
      "cell_type": "markdown",
      "metadata": {
        "id": "l0Ha4nX1CMma"
      },
      "source": [
        "So we have failed the exercise, and we can see from the AssertionError that our data is in correct. \n",
        "\n",
        "What do we do now?\n",
        "\n",
        "#### Let's look at our sample troubleshooting notebook."
      ]
    }
  ],
  "metadata": {
    "celltoolbar": "Create Assignment",
    "kernel_info": {
      "name": "python3"
    },
    "kernelspec": {
      "display_name": "Python 3 (ipykernel)",
      "language": "python",
      "name": "python3"
    },
    "language_info": {
      "codemirror_mode": {
        "name": "ipython",
        "version": 3
      },
      "file_extension": ".py",
      "mimetype": "text/x-python",
      "name": "python",
      "nbconvert_exporter": "python",
      "pygments_lexer": "ipython3",
      "version": "3.9.13"
    },
    "nteract": {
      "version": "0.15.0"
    },
    "colab": {
      "provenance": [],
      "include_colab_link": true
    }
  },
  "nbformat": 4,
  "nbformat_minor": 0
}