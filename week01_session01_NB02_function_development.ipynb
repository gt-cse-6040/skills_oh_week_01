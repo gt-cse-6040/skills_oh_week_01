{
  "cells": [
    {
      "cell_type": "markdown",
      "metadata": {
        "id": "view-in-github",
        "colab_type": "text"
      },
      "source": [
        "<a href=\"https://colab.research.google.com/github/gt-cse-6040/skills_oh_week_01/blob/main/week01_session01_NB02_function_development.ipynb\" target=\"_parent\"><img src=\"https://colab.research.google.com/assets/colab-badge.svg\" alt=\"Open In Colab\"/></a>"
      ]
    },
    {
      "cell_type": "markdown",
      "metadata": {
        "id": "F9yAlrLzCUGR"
      },
      "source": [
        "## Asserting yourself: Program correctness and Function development ##"
      ]
    },
    {
      "cell_type": "markdown",
      "metadata": {
        "id": "-n8B6uZVCUGT"
      },
      "source": [
        "_Main topics covered during today's session:_\n",
        "\n",
        "From the previous NB:\n",
        "1. **Asymptotic running time (or cost)** and **cost (or work) efficiency**, e.g., algorithms that scale like $\\mathcal{O}(n)$ vs. $\\mathcal{O}(n^2)$\n",
        "2. **Slicing notation**\n",
        "3. **List comprehensions**\n",
        "4. **Helper functions**\n",
        "\n",
        "This NB:\n",
        "\n",
        "5. **Assert yourself:** Does my code do what I think it should?\n"
      ]
    },
    {
      "cell_type": "markdown",
      "metadata": {
        "id": "rNTs9hUoCUGV"
      },
      "source": [
        "\n",
        "We did an impromptu demonstration in class inspired by the question, \"How can we _prove_ that our program is correct?\" The approach we took can sometimes be useful for debugging and even deriving efficient programs.\n",
        "\n",
        "The main idea is to formalize any _facts_ that must be true at different parts in your program and then check whether the code makes those facts true or not."
      ]
    },
    {
      "cell_type": "markdown",
      "metadata": {
        "id": "KNqm4-KQCUGW"
      },
      "source": [
        "For example, in the cumulative sums we know our goal is to take `x = [x[0], x[1], ..., x[n-1]]` and produce the output list `y = [y[0], y[1], ..., y[n-1]]`, where every `y[i] = x[0] + x[1] + ... + x[i]`. A natural starting point is to structure our solution like this:"
      ]
    },
    {
      "cell_type": "code",
      "execution_count": null,
      "metadata": {
        "id": "xtuXBKXACUGX"
      },
      "outputs": [],
      "source": [
        "# Set a variable for the\n",
        "# Running example, same as NB01:\n",
        "\n",
        "x = [5, 3, -4, 20, 2, 9, 0, -1]"
      ]
    },
    {
      "cell_type": "code",
      "execution_count": null,
      "metadata": {
        "id": "-ohB8it6CUGY"
      },
      "outputs": [],
      "source": [
        "def cumulative_sums__skel0(x):\n",
        "    y = []\n",
        "    for i in range(len(x)):\n",
        "        # ...\n",
        "        pass    # `pass` does nothing — it mollifies Python\n",
        "        # ...\n",
        "    return y"
      ]
    },
    {
      "cell_type": "markdown",
      "metadata": {
        "id": "d8wSZCbrCUGY"
      },
      "source": [
        "If our solution is correct, then we know that just before we `return y`, the condition embedded in the comment below must be true:"
      ]
    },
    {
      "cell_type": "code",
      "execution_count": null,
      "metadata": {
        "id": "hpBuQ88LCUGZ"
      },
      "outputs": [],
      "source": [
        "def cumulative_sums__skel1(x):\n",
        "    # Let `x == [x[0], x[1], ..., x[n-1]]`\n",
        "    y = []\n",
        "    for i in range(len(x)):\n",
        "        pass\n",
        "    # Fact: `len(y) == n and for all `0 <= i <= n-1`, `y[i] == x[0] + x[1] + ... + x[n-1]`\n",
        "    return y"
      ]
    },
    {
      "cell_type": "markdown",
      "metadata": {
        "id": "bFAiu1BVCUGZ"
      },
      "source": [
        "One nice thing about writing down this fact is that we already know one corner case—when `x` is empty—will be handled correctly. After all, `y` starts as empty; if `x` is also empty, so that `n == len(x) == 0`, the `for` loop will immediately complete leaving `y` empty but the conditions of the `Fact` satisfied naturally."
      ]
    },
    {
      "cell_type": "markdown",
      "metadata": {
        "id": "7HmBubKzCUGa"
      },
      "source": [
        "Next, focus on the loop skeleton in lines 4-5. What _must_ be true at the start of each iteration (right before `pass`) and at the end of each iteration (after `pass` but before the next iteration or loop-exit)?"
      ]
    },
    {
      "cell_type": "code",
      "execution_count": null,
      "metadata": {
        "id": "Km0JFuE_CUGb"
      },
      "outputs": [],
      "source": [
        "def cumulative_sums__skel2(x):\n",
        "    # Let `x == [x[0], x[1], ..., x[n-1]]`\n",
        "    y = []\n",
        "    for i in range(len(x)): # `0 <= i <= n-1`\n",
        "        # Fact A: `y[i-1] == x[0] + x[1] + ... + x[i-1]`\n",
        "        pass\n",
        "        # Fact B: `y[i]   == x[0] + x[1] + ... + x[i-1] + x[i]`\n",
        "    # Fact C: `len(y) == n and for all `0 <= i <= n-1`, `y[i] == x[0] + x[1] + ... + x[n-1]`\n",
        "    return y"
      ]
    },
    {
      "cell_type": "markdown",
      "metadata": {
        "id": "E5JxJmm6CUGc"
      },
      "source": [
        "Since `i` goes from `0` to `n-1`, `Fact A` and `Fact B` being true would imply `Fact C`."
      ]
    },
    {
      "cell_type": "markdown",
      "metadata": {
        "id": "AlCIBd4FCUGc"
      },
      "source": [
        "Let's focus on just the `for` loop.\n",
        "```python\n",
        "    for i in range(len(x)):\n",
        "        # Fact A: `y[i-1] == x[0] + x[1] + ... + x[i-1]`\n",
        "        pass\n",
        "        # Fact B: `y[i]   == x[0] + x[1] + ... + x[i-1] + x[i]`\n",
        "```\n",
        "What does `pass` need to look like in order for `Fact B` to follow from `Fact A`? Here's a good starting guess."
      ]
    },
    {
      "cell_type": "markdown",
      "metadata": {
        "id": "8EnbNP2ECUGc"
      },
      "source": [
        "```python\n",
        "    # Fact A: `y[i-1] == x[0] + x[1] + ... + x[i-1]`\n",
        "    y[i] = y[i-1] + x[i]\n",
        "    # Fact B: `y[i]   == x[0] + x[1] + ... + x[i-1] + x[i]`\n",
        "```"
      ]
    },
    {
      "cell_type": "markdown",
      "metadata": {
        "id": "qb09Eoa6CUGd"
      },
      "source": [
        "While that makes sense, our code is not yet correct. The first problem is `y[i-1]`: the first time through the loop, `i=0` so `y[i-1]` does not exist!"
      ]
    },
    {
      "cell_type": "markdown",
      "metadata": {
        "id": "QxPCq74iCUGd"
      },
      "source": [
        "Let's introduce a new variable, `s`, as a placeholder for the problematic `y[i-1]`:\n",
        "```python\n",
        "    y = []\n",
        "    s = 0\n",
        "    for i in range(len(x)):\n",
        "        # Fact A: `s    == x[0] + x[1] + ... + x[i-1]`\n",
        "        y[i] = s + x[i]\n",
        "        # Fact B: `y[i] == x[0] + x[1] + ... + x[i-1] + x[i]`\n",
        "```"
      ]
    },
    {
      "cell_type": "markdown",
      "metadata": {
        "id": "JZvcpTpOCUGd"
      },
      "source": [
        "Better! But `s` is not updated, so `Fact A` cannot remain true for `i > 0`. We need to update `s`, too."
      ]
    },
    {
      "cell_type": "markdown",
      "metadata": {
        "id": "s3GAJ6lSCUGe"
      },
      "source": [
        "```python\n",
        "    y = []\n",
        "    s = 0\n",
        "    for i in range(len(x)):\n",
        "        # Fact A: `s    == x[0] + x[1] + ... + x[i-1]`\n",
        "        s += x[i]\n",
        "        y[i] = s\n",
        "        # Fact B: `y[i] == x[0] + x[1] + ... + x[i-1] + x[i]`\n",
        "```"
      ]
    },
    {
      "cell_type": "markdown",
      "metadata": {
        "id": "-R2Lw6O_CUGe"
      },
      "source": [
        "Closer! Now the problem is the update of `y[i]`: remember that `y` starts as empty, and you cannot assign an element of a list that does not yet exist.\n",
        "\n",
        "Let's try two solutions: _preallocation_ of `y` and _appending_ to extend `y`."
      ]
    },
    {
      "cell_type": "markdown",
      "metadata": {
        "id": "eRZx569gCUGf"
      },
      "source": [
        "In the first method, we know exactly how big the output needs to be, so we can _preallocate_ it. Then any reference to `y[i]` is safe as long as `i` is valid.\n",
        "```python\n",
        "    # Method 1: Preallocation\n",
        "    y = [0] * len(x)  # `len(y) == `len(x)`\n",
        "    s = 0\n",
        "    for i in range(len(x)):\n",
        "        # Fact A: `s    == x[0] + x[1] + ... + x[i-1]`\n",
        "        s += x[i]\n",
        "        y[i] = s\n",
        "        # Fact B: `s    == x[0] + x[1] + ... + x[i-1] + x[i]`\n",
        "        #          and `y[i] == s`\n",
        "```\n",
        "It's still easy to verify that `Fact B` follows from `Fact A` (and that `Fact C` from before follows, too)."
      ]
    },
    {
      "cell_type": "markdown",
      "metadata": {
        "id": "YupyUq5gCUGf"
      },
      "source": [
        "In the second method, we append each new item as we go since such an operation exists for any Python list.\n",
        "```python\n",
        "    # Method 2: Appending\n",
        "    y = []\n",
        "    s = 0\n",
        "    for i in range(len(x)):\n",
        "        # Fact A: `s    == x[0] + x[1] + ... + x[i-1]`\n",
        "        s += x[i]\n",
        "        y.append(s)\n",
        "        # Fact B: `s    == x[0] + x[1] + ... + x[i-1] + x[i]` and `y[i] == s`\n",
        "```\n",
        "It's a matter of taste which one you prefer."
      ]
    },
    {
      "cell_type": "markdown",
      "metadata": {
        "id": "MoZMXp9XCUGf"
      },
      "source": [
        "To summarize, what we did above was to a) establish logical or mathematical facts that needed to hold at different points in the code, and then b) verify that the code does indeed imply those facts. This method is especially helpful for analyzing code that involves loops: what you are doing amounts to proof by induction, which you probably learned at some point in your distant mathematical-past."
      ]
    },
    {
      "cell_type": "markdown",
      "metadata": {
        "id": "zOZAIYZaCUGf"
      },
      "source": [
        "There were two happy by-products, too!\n",
        "1. Because we _started_ with the loop skeleton, writing down what we _expected_ let us _derive_ the code that we needed.\n",
        "2. The code we derived is the _efficient_ (work-optimal) one that scales linearly, rather than quadratically, with the input size.\n",
        "It's not easy to apply this technique and derive whole algorithms from scratch. But, it is an extremely useful technique when applied to small code fragments during debugging—it can help you isolate the code that violates your expectations."
      ]
    },
    {
      "cell_type": "markdown",
      "metadata": {
        "id": "vAYv_WUvCUGg"
      },
      "source": [
        "## \"There's a function for that...\" ##\n",
        "\n",
        "Of course, the standard Python library already has a function for calculating cumulative sums. It's called `accumulate` and is available via the `itertools` module:"
      ]
    },
    {
      "cell_type": "code",
      "execution_count": null,
      "metadata": {
        "id": "TnptyVr_CUGg"
      },
      "outputs": [],
      "source": [
        "from itertools import accumulate\n",
        "\n",
        "def cumulative_sum__v7(x):\n",
        "    return list(accumulate(x))\n",
        "\n",
        "cumulative_sum__v7(x)"
      ]
    },
    {
      "cell_type": "markdown",
      "metadata": {
        "id": "F0qZxs2mCUGh"
      },
      "source": [
        "> The `accumulate` function returns a _generator_. So to get the actual elements of the sequence, you need to \"run\" the generator. The implementation above does that by calling the `list` constructor."
      ]
    },
    {
      "cell_type": "markdown",
      "metadata": {
        "id": "KPEdbWjnCUGh"
      },
      "source": [
        "### Beyond cumulative sums ###\n",
        "\n",
        "The `accumulate` function can be used in more general settings than sums. For example, it can be used to do cumulative multiplies via the `func` parameter. The value of a `func` argument should be a function that can combine two elements. For example, a _cumulative product_, where the values are multiplied, would look like the following:"
      ]
    },
    {
      "cell_type": "code",
      "execution_count": null,
      "metadata": {
        "id": "dgvf6tMLCUGh"
      },
      "outputs": [],
      "source": [
        "print(\"* Sums:\", *accumulate(x)) # cumulative sums\n",
        "\n",
        "def multiply(a, b):\n",
        "    return a * b\n",
        "\n",
        "print(\"* Products:\", *accumulate(x, func=multiply)) # cumulative products!"
      ]
    },
    {
      "cell_type": "markdown",
      "metadata": {
        "id": "lSxfUr2YCUGi"
      },
      "source": [
        "The `func` parameter, which is intended to refer to a _function_ (not a function's value when evaluated at a specific input), makes `accumulate` an example of a **higher-order function.** That is, it's a function that can accept another function or return a new function."
      ]
    },
    {
      "cell_type": "markdown",
      "metadata": {
        "id": "ez_ycuUbCUGi"
      },
      "source": [
        "Why is that useful? It makes it possible to write one function that can be customized by the user through a simple interface. In this case, we can accumulate _anything_ as long we use a _binary operator_ to combine partial accumulated values with new values. By \"binary operator,\" we really just mean some function `f(a,b)` that accepts two inputs and produces an output of the same type.\n",
        "\n",
        "> The idea of higher-order functions and general operators can be viewed as _applied_ abstract algebra, which we would agree sounds a bit like an oxymoron."
      ]
    },
    {
      "cell_type": "markdown",
      "metadata": {
        "id": "UO7glV51CUGi"
      },
      "source": [
        "## Summary ##\n",
        "\n",
        "Here are the key ideas to review from today's notebooks."
      ]
    },
    {
      "cell_type": "markdown",
      "metadata": {
        "id": "h7CrzGznCUGi"
      },
      "source": [
        "1. **Achieving cost (or work) efficiency.** When designing a computational algorithm that operates on $n$ input objects and produces $k$ outputs, a good goal is _linear_ scaling. That means the computational algorithm takes $\\mathcal{O}(n+k)$ steps. In this case, doubling the input or output will double the computational cost, which seems like a reasonable price to pay."
      ]
    },
    {
      "cell_type": "markdown",
      "metadata": {
        "id": "ath_HsQcCUGj"
      },
      "source": [
        "2. **Improving readability through basic idioms.** Python has many constructs that have led to common coding conventions, or _idioms_. Learning these idioms helps improve the readability of your code by making it more concise and using patterns that should be familiar to other Python programmers. The examples you saw here included **slicing for lists**, **higher-level functions** (like `sum` and `accumulate`), **list comprehensions** (use judiciously!), **helper functions**, and **zipper iteration**."
      ]
    },
    {
      "cell_type": "markdown",
      "metadata": {
        "id": "cY8R3l6OCUGk"
      },
      "source": [
        "3. **Higher-order functions.** A powerful idea in software development, which has its roots in abstract algebra, is that of higher-order functions. These are functions that take other functions as input and use them. List comprehensions are one example: the comprehension `[f(e) for e in x]` works for any function `f` that can take the input `e`. The use of `accumulate` customized to do additions (the default), multiplications, minimums, or whatever it is you need to calculate the Fibonacci sequence, are all additional examples."
      ]
    }
  ],
  "metadata": {
    "celltoolbar": "Slideshow",
    "kernelspec": {
      "display_name": "Python 3 (ipykernel)",
      "language": "python",
      "name": "python3"
    },
    "language_info": {
      "codemirror_mode": {
        "name": "ipython",
        "version": 3
      },
      "file_extension": ".py",
      "mimetype": "text/x-python",
      "name": "python",
      "nbconvert_exporter": "python",
      "pygments_lexer": "ipython3",
      "version": "3.9.13"
    },
    "toc": {
      "base_numbering": 1,
      "nav_menu": {},
      "number_sections": true,
      "sideBar": true,
      "skip_h1_title": false,
      "title_cell": "Table of Contents",
      "title_sidebar": "Contents",
      "toc_cell": false,
      "toc_position": {},
      "toc_section_display": true,
      "toc_window_display": false
    },
    "colab": {
      "provenance": [],
      "include_colab_link": true
    }
  },
  "nbformat": 4,
  "nbformat_minor": 0
}